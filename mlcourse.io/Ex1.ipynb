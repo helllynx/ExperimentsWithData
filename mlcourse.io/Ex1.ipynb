{
 "cells": [
  {
   "cell_type": "code",
   "execution_count": 2,
   "metadata": {},
   "outputs": [],
   "source": [
    "import numpy as np\n",
    "import pandas as pd\n",
    "# pip install seaborn \n",
    "import seaborn as sns\n",
    "import matplotlib.pyplot as plt\n",
    "\n",
    "from matplotlib import rcParams\n",
    "\n",
    "# figure size in inches\n",
    "rcParams['figure.figsize'] = 20,20\n",
    "\n",
    "# dtype = {'DayOfWeek': np.uint8, 'DayofMonth': np.uint8, 'Month': np.uint8 , \n",
    "#          'Cancelled': np.uint8, 'Year': np.uint16, 'FlightNum': np.uint16 , \n",
    "#          'Distance': np.uint16, 'UniqueCarrier': str, 'CancellationCode': str, \n",
    "#          'Origin': str, 'Dest': str, 'ArrDelay': np.float16, \n",
    "#          'DepDelay': np.float16, 'CarrierDelay': np.float16, \n",
    "#          'WeatherDelay': np.float16, 'NASDelay': np.float16, \n",
    "#          'SecurityDelay': np.float16, 'LateAircraftDelay': np.float16, \n",
    "#          'DepTime': np.float16}"
   ]
  },
  {
   "cell_type": "code",
   "execution_count": 3,
   "metadata": {},
   "outputs": [],
   "source": [
    "path = '2008.csv.bz2'\n",
    "data = pd.read_csv(path)"
   ]
  },
  {
   "cell_type": "code",
   "execution_count": 4,
   "metadata": {},
   "outputs": [
    {
     "data": {
      "text/html": [
       "<div>\n",
       "<style scoped>\n",
       "    .dataframe tbody tr th:only-of-type {\n",
       "        vertical-align: middle;\n",
       "    }\n",
       "\n",
       "    .dataframe tbody tr th {\n",
       "        vertical-align: top;\n",
       "    }\n",
       "\n",
       "    .dataframe thead th {\n",
       "        text-align: right;\n",
       "    }\n",
       "</style>\n",
       "<table border=\"1\" class=\"dataframe\">\n",
       "  <thead>\n",
       "    <tr style=\"text-align: right;\">\n",
       "      <th></th>\n",
       "      <th>0</th>\n",
       "      <th>1</th>\n",
       "      <th>2</th>\n",
       "      <th>3</th>\n",
       "      <th>4</th>\n",
       "      <th>5</th>\n",
       "      <th>6</th>\n",
       "      <th>7</th>\n",
       "      <th>8</th>\n",
       "      <th>9</th>\n",
       "      <th>10</th>\n",
       "      <th>11</th>\n",
       "      <th>12</th>\n",
       "      <th>13</th>\n",
       "      <th>14</th>\n",
       "      <th>15</th>\n",
       "      <th>16</th>\n",
       "      <th>17</th>\n",
       "      <th>18</th>\n",
       "      <th>19</th>\n",
       "    </tr>\n",
       "  </thead>\n",
       "  <tbody>\n",
       "    <tr>\n",
       "      <th>Year</th>\n",
       "      <td>2008</td>\n",
       "      <td>2008</td>\n",
       "      <td>2008</td>\n",
       "      <td>2008</td>\n",
       "      <td>2008</td>\n",
       "      <td>2008</td>\n",
       "      <td>2008</td>\n",
       "      <td>2008</td>\n",
       "      <td>2008</td>\n",
       "      <td>2008</td>\n",
       "      <td>2008</td>\n",
       "      <td>2008</td>\n",
       "      <td>2008</td>\n",
       "      <td>2008</td>\n",
       "      <td>2008</td>\n",
       "      <td>2008</td>\n",
       "      <td>2008</td>\n",
       "      <td>2008</td>\n",
       "      <td>2008</td>\n",
       "      <td>2008</td>\n",
       "    </tr>\n",
       "    <tr>\n",
       "      <th>Month</th>\n",
       "      <td>1</td>\n",
       "      <td>1</td>\n",
       "      <td>1</td>\n",
       "      <td>1</td>\n",
       "      <td>1</td>\n",
       "      <td>1</td>\n",
       "      <td>1</td>\n",
       "      <td>1</td>\n",
       "      <td>1</td>\n",
       "      <td>1</td>\n",
       "      <td>1</td>\n",
       "      <td>1</td>\n",
       "      <td>1</td>\n",
       "      <td>1</td>\n",
       "      <td>1</td>\n",
       "      <td>1</td>\n",
       "      <td>1</td>\n",
       "      <td>1</td>\n",
       "      <td>1</td>\n",
       "      <td>1</td>\n",
       "    </tr>\n",
       "    <tr>\n",
       "      <th>DayofMonth</th>\n",
       "      <td>3</td>\n",
       "      <td>3</td>\n",
       "      <td>3</td>\n",
       "      <td>3</td>\n",
       "      <td>3</td>\n",
       "      <td>3</td>\n",
       "      <td>3</td>\n",
       "      <td>3</td>\n",
       "      <td>3</td>\n",
       "      <td>3</td>\n",
       "      <td>3</td>\n",
       "      <td>3</td>\n",
       "      <td>3</td>\n",
       "      <td>3</td>\n",
       "      <td>3</td>\n",
       "      <td>3</td>\n",
       "      <td>3</td>\n",
       "      <td>3</td>\n",
       "      <td>3</td>\n",
       "      <td>3</td>\n",
       "    </tr>\n",
       "    <tr>\n",
       "      <th>DayOfWeek</th>\n",
       "      <td>4</td>\n",
       "      <td>4</td>\n",
       "      <td>4</td>\n",
       "      <td>4</td>\n",
       "      <td>4</td>\n",
       "      <td>4</td>\n",
       "      <td>4</td>\n",
       "      <td>4</td>\n",
       "      <td>4</td>\n",
       "      <td>4</td>\n",
       "      <td>4</td>\n",
       "      <td>4</td>\n",
       "      <td>4</td>\n",
       "      <td>4</td>\n",
       "      <td>4</td>\n",
       "      <td>4</td>\n",
       "      <td>4</td>\n",
       "      <td>4</td>\n",
       "      <td>4</td>\n",
       "      <td>4</td>\n",
       "    </tr>\n",
       "    <tr>\n",
       "      <th>DepTime</th>\n",
       "      <td>2003</td>\n",
       "      <td>754</td>\n",
       "      <td>628</td>\n",
       "      <td>926</td>\n",
       "      <td>1829</td>\n",
       "      <td>1940</td>\n",
       "      <td>1937</td>\n",
       "      <td>1039</td>\n",
       "      <td>617</td>\n",
       "      <td>1620</td>\n",
       "      <td>706</td>\n",
       "      <td>1644</td>\n",
       "      <td>1426</td>\n",
       "      <td>715</td>\n",
       "      <td>1702</td>\n",
       "      <td>1029</td>\n",
       "      <td>1452</td>\n",
       "      <td>754</td>\n",
       "      <td>1323</td>\n",
       "      <td>1416</td>\n",
       "    </tr>\n",
       "    <tr>\n",
       "      <th>CRSDepTime</th>\n",
       "      <td>1955</td>\n",
       "      <td>735</td>\n",
       "      <td>620</td>\n",
       "      <td>930</td>\n",
       "      <td>1755</td>\n",
       "      <td>1915</td>\n",
       "      <td>1830</td>\n",
       "      <td>1040</td>\n",
       "      <td>615</td>\n",
       "      <td>1620</td>\n",
       "      <td>700</td>\n",
       "      <td>1510</td>\n",
       "      <td>1430</td>\n",
       "      <td>715</td>\n",
       "      <td>1700</td>\n",
       "      <td>1020</td>\n",
       "      <td>1425</td>\n",
       "      <td>745</td>\n",
       "      <td>1255</td>\n",
       "      <td>1325</td>\n",
       "    </tr>\n",
       "    <tr>\n",
       "      <th>ArrTime</th>\n",
       "      <td>2211</td>\n",
       "      <td>1002</td>\n",
       "      <td>804</td>\n",
       "      <td>1054</td>\n",
       "      <td>1959</td>\n",
       "      <td>2121</td>\n",
       "      <td>2037</td>\n",
       "      <td>1132</td>\n",
       "      <td>652</td>\n",
       "      <td>1639</td>\n",
       "      <td>916</td>\n",
       "      <td>1845</td>\n",
       "      <td>1426</td>\n",
       "      <td>720</td>\n",
       "      <td>1651</td>\n",
       "      <td>1021</td>\n",
       "      <td>1640</td>\n",
       "      <td>940</td>\n",
       "      <td>1526</td>\n",
       "      <td>1512</td>\n",
       "    </tr>\n",
       "    <tr>\n",
       "      <th>CRSArrTime</th>\n",
       "      <td>2225</td>\n",
       "      <td>1000</td>\n",
       "      <td>750</td>\n",
       "      <td>1100</td>\n",
       "      <td>1925</td>\n",
       "      <td>2110</td>\n",
       "      <td>1940</td>\n",
       "      <td>1150</td>\n",
       "      <td>650</td>\n",
       "      <td>1655</td>\n",
       "      <td>915</td>\n",
       "      <td>1725</td>\n",
       "      <td>1425</td>\n",
       "      <td>710</td>\n",
       "      <td>1655</td>\n",
       "      <td>1010</td>\n",
       "      <td>1625</td>\n",
       "      <td>955</td>\n",
       "      <td>1510</td>\n",
       "      <td>1435</td>\n",
       "    </tr>\n",
       "    <tr>\n",
       "      <th>UniqueCarrier</th>\n",
       "      <td>WN</td>\n",
       "      <td>WN</td>\n",
       "      <td>WN</td>\n",
       "      <td>WN</td>\n",
       "      <td>WN</td>\n",
       "      <td>WN</td>\n",
       "      <td>WN</td>\n",
       "      <td>WN</td>\n",
       "      <td>WN</td>\n",
       "      <td>WN</td>\n",
       "      <td>WN</td>\n",
       "      <td>WN</td>\n",
       "      <td>WN</td>\n",
       "      <td>WN</td>\n",
       "      <td>WN</td>\n",
       "      <td>WN</td>\n",
       "      <td>WN</td>\n",
       "      <td>WN</td>\n",
       "      <td>WN</td>\n",
       "      <td>WN</td>\n",
       "    </tr>\n",
       "    <tr>\n",
       "      <th>FlightNum</th>\n",
       "      <td>335</td>\n",
       "      <td>3231</td>\n",
       "      <td>448</td>\n",
       "      <td>1746</td>\n",
       "      <td>3920</td>\n",
       "      <td>378</td>\n",
       "      <td>509</td>\n",
       "      <td>535</td>\n",
       "      <td>11</td>\n",
       "      <td>810</td>\n",
       "      <td>100</td>\n",
       "      <td>1333</td>\n",
       "      <td>829</td>\n",
       "      <td>1016</td>\n",
       "      <td>1827</td>\n",
       "      <td>2272</td>\n",
       "      <td>675</td>\n",
       "      <td>1144</td>\n",
       "      <td>4</td>\n",
       "      <td>54</td>\n",
       "    </tr>\n",
       "    <tr>\n",
       "      <th>TailNum</th>\n",
       "      <td>N712SW</td>\n",
       "      <td>N772SW</td>\n",
       "      <td>N428WN</td>\n",
       "      <td>N612SW</td>\n",
       "      <td>N464WN</td>\n",
       "      <td>N726SW</td>\n",
       "      <td>N763SW</td>\n",
       "      <td>N428WN</td>\n",
       "      <td>N689SW</td>\n",
       "      <td>N648SW</td>\n",
       "      <td>N690SW</td>\n",
       "      <td>N334SW</td>\n",
       "      <td>N476WN</td>\n",
       "      <td>N765SW</td>\n",
       "      <td>N420WN</td>\n",
       "      <td>N263WN</td>\n",
       "      <td>N286WN</td>\n",
       "      <td>N778SW</td>\n",
       "      <td>N674AA</td>\n",
       "      <td>N643SW</td>\n",
       "    </tr>\n",
       "    <tr>\n",
       "      <th>ActualElapsedTime</th>\n",
       "      <td>128</td>\n",
       "      <td>128</td>\n",
       "      <td>96</td>\n",
       "      <td>88</td>\n",
       "      <td>90</td>\n",
       "      <td>101</td>\n",
       "      <td>240</td>\n",
       "      <td>233</td>\n",
       "      <td>95</td>\n",
       "      <td>79</td>\n",
       "      <td>130</td>\n",
       "      <td>121</td>\n",
       "      <td>60</td>\n",
       "      <td>65</td>\n",
       "      <td>49</td>\n",
       "      <td>52</td>\n",
       "      <td>228</td>\n",
       "      <td>226</td>\n",
       "      <td>123</td>\n",
       "      <td>56</td>\n",
       "    </tr>\n",
       "    <tr>\n",
       "      <th>CRSElapsedTime</th>\n",
       "      <td>150</td>\n",
       "      <td>145</td>\n",
       "      <td>90</td>\n",
       "      <td>90</td>\n",
       "      <td>90</td>\n",
       "      <td>115</td>\n",
       "      <td>250</td>\n",
       "      <td>250</td>\n",
       "      <td>95</td>\n",
       "      <td>95</td>\n",
       "      <td>135</td>\n",
       "      <td>135</td>\n",
       "      <td>55</td>\n",
       "      <td>55</td>\n",
       "      <td>55</td>\n",
       "      <td>50</td>\n",
       "      <td>240</td>\n",
       "      <td>250</td>\n",
       "      <td>135</td>\n",
       "      <td>70</td>\n",
       "    </tr>\n",
       "    <tr>\n",
       "      <th>AirTime</th>\n",
       "      <td>116</td>\n",
       "      <td>113</td>\n",
       "      <td>76</td>\n",
       "      <td>78</td>\n",
       "      <td>77</td>\n",
       "      <td>87</td>\n",
       "      <td>230</td>\n",
       "      <td>219</td>\n",
       "      <td>70</td>\n",
       "      <td>70</td>\n",
       "      <td>106</td>\n",
       "      <td>107</td>\n",
       "      <td>39</td>\n",
       "      <td>37</td>\n",
       "      <td>35</td>\n",
       "      <td>37</td>\n",
       "      <td>213</td>\n",
       "      <td>205</td>\n",
       "      <td>110</td>\n",
       "      <td>49</td>\n",
       "    </tr>\n",
       "    <tr>\n",
       "      <th>ArrDelay</th>\n",
       "      <td>-14</td>\n",
       "      <td>2</td>\n",
       "      <td>14</td>\n",
       "      <td>-6</td>\n",
       "      <td>34</td>\n",
       "      <td>11</td>\n",
       "      <td>57</td>\n",
       "      <td>-18</td>\n",
       "      <td>2</td>\n",
       "      <td>-16</td>\n",
       "      <td>1</td>\n",
       "      <td>80</td>\n",
       "      <td>1</td>\n",
       "      <td>10</td>\n",
       "      <td>-4</td>\n",
       "      <td>11</td>\n",
       "      <td>15</td>\n",
       "      <td>-15</td>\n",
       "      <td>16</td>\n",
       "      <td>37</td>\n",
       "    </tr>\n",
       "    <tr>\n",
       "      <th>DepDelay</th>\n",
       "      <td>8</td>\n",
       "      <td>19</td>\n",
       "      <td>8</td>\n",
       "      <td>-4</td>\n",
       "      <td>34</td>\n",
       "      <td>25</td>\n",
       "      <td>67</td>\n",
       "      <td>-1</td>\n",
       "      <td>2</td>\n",
       "      <td>0</td>\n",
       "      <td>6</td>\n",
       "      <td>94</td>\n",
       "      <td>-4</td>\n",
       "      <td>0</td>\n",
       "      <td>2</td>\n",
       "      <td>9</td>\n",
       "      <td>27</td>\n",
       "      <td>9</td>\n",
       "      <td>28</td>\n",
       "      <td>51</td>\n",
       "    </tr>\n",
       "    <tr>\n",
       "      <th>Origin</th>\n",
       "      <td>IAD</td>\n",
       "      <td>IAD</td>\n",
       "      <td>IND</td>\n",
       "      <td>IND</td>\n",
       "      <td>IND</td>\n",
       "      <td>IND</td>\n",
       "      <td>IND</td>\n",
       "      <td>IND</td>\n",
       "      <td>IND</td>\n",
       "      <td>IND</td>\n",
       "      <td>IND</td>\n",
       "      <td>IND</td>\n",
       "      <td>IND</td>\n",
       "      <td>IND</td>\n",
       "      <td>IND</td>\n",
       "      <td>IND</td>\n",
       "      <td>IND</td>\n",
       "      <td>IND</td>\n",
       "      <td>IND</td>\n",
       "      <td>ISP</td>\n",
       "    </tr>\n",
       "    <tr>\n",
       "      <th>Dest</th>\n",
       "      <td>TPA</td>\n",
       "      <td>TPA</td>\n",
       "      <td>BWI</td>\n",
       "      <td>BWI</td>\n",
       "      <td>BWI</td>\n",
       "      <td>JAX</td>\n",
       "      <td>LAS</td>\n",
       "      <td>LAS</td>\n",
       "      <td>MCI</td>\n",
       "      <td>MCI</td>\n",
       "      <td>MCO</td>\n",
       "      <td>MCO</td>\n",
       "      <td>MDW</td>\n",
       "      <td>MDW</td>\n",
       "      <td>MDW</td>\n",
       "      <td>MDW</td>\n",
       "      <td>PHX</td>\n",
       "      <td>PHX</td>\n",
       "      <td>TPA</td>\n",
       "      <td>BWI</td>\n",
       "    </tr>\n",
       "    <tr>\n",
       "      <th>Distance</th>\n",
       "      <td>810</td>\n",
       "      <td>810</td>\n",
       "      <td>515</td>\n",
       "      <td>515</td>\n",
       "      <td>515</td>\n",
       "      <td>688</td>\n",
       "      <td>1591</td>\n",
       "      <td>1591</td>\n",
       "      <td>451</td>\n",
       "      <td>451</td>\n",
       "      <td>828</td>\n",
       "      <td>828</td>\n",
       "      <td>162</td>\n",
       "      <td>162</td>\n",
       "      <td>162</td>\n",
       "      <td>162</td>\n",
       "      <td>1489</td>\n",
       "      <td>1489</td>\n",
       "      <td>838</td>\n",
       "      <td>220</td>\n",
       "    </tr>\n",
       "    <tr>\n",
       "      <th>TaxiIn</th>\n",
       "      <td>4</td>\n",
       "      <td>5</td>\n",
       "      <td>3</td>\n",
       "      <td>3</td>\n",
       "      <td>3</td>\n",
       "      <td>4</td>\n",
       "      <td>3</td>\n",
       "      <td>7</td>\n",
       "      <td>6</td>\n",
       "      <td>3</td>\n",
       "      <td>5</td>\n",
       "      <td>6</td>\n",
       "      <td>9</td>\n",
       "      <td>7</td>\n",
       "      <td>4</td>\n",
       "      <td>6</td>\n",
       "      <td>7</td>\n",
       "      <td>5</td>\n",
       "      <td>4</td>\n",
       "      <td>2</td>\n",
       "    </tr>\n",
       "    <tr>\n",
       "      <th>TaxiOut</th>\n",
       "      <td>8</td>\n",
       "      <td>10</td>\n",
       "      <td>17</td>\n",
       "      <td>7</td>\n",
       "      <td>10</td>\n",
       "      <td>10</td>\n",
       "      <td>7</td>\n",
       "      <td>7</td>\n",
       "      <td>19</td>\n",
       "      <td>6</td>\n",
       "      <td>19</td>\n",
       "      <td>8</td>\n",
       "      <td>12</td>\n",
       "      <td>21</td>\n",
       "      <td>10</td>\n",
       "      <td>9</td>\n",
       "      <td>8</td>\n",
       "      <td>16</td>\n",
       "      <td>9</td>\n",
       "      <td>5</td>\n",
       "    </tr>\n",
       "    <tr>\n",
       "      <th>Cancelled</th>\n",
       "      <td>0</td>\n",
       "      <td>0</td>\n",
       "      <td>0</td>\n",
       "      <td>0</td>\n",
       "      <td>0</td>\n",
       "      <td>0</td>\n",
       "      <td>0</td>\n",
       "      <td>0</td>\n",
       "      <td>0</td>\n",
       "      <td>0</td>\n",
       "      <td>0</td>\n",
       "      <td>0</td>\n",
       "      <td>0</td>\n",
       "      <td>0</td>\n",
       "      <td>0</td>\n",
       "      <td>0</td>\n",
       "      <td>0</td>\n",
       "      <td>0</td>\n",
       "      <td>0</td>\n",
       "      <td>0</td>\n",
       "    </tr>\n",
       "    <tr>\n",
       "      <th>CancellationCode</th>\n",
       "      <td>NaN</td>\n",
       "      <td>NaN</td>\n",
       "      <td>NaN</td>\n",
       "      <td>NaN</td>\n",
       "      <td>NaN</td>\n",
       "      <td>NaN</td>\n",
       "      <td>NaN</td>\n",
       "      <td>NaN</td>\n",
       "      <td>NaN</td>\n",
       "      <td>NaN</td>\n",
       "      <td>NaN</td>\n",
       "      <td>NaN</td>\n",
       "      <td>NaN</td>\n",
       "      <td>NaN</td>\n",
       "      <td>NaN</td>\n",
       "      <td>NaN</td>\n",
       "      <td>NaN</td>\n",
       "      <td>NaN</td>\n",
       "      <td>NaN</td>\n",
       "      <td>NaN</td>\n",
       "    </tr>\n",
       "    <tr>\n",
       "      <th>Diverted</th>\n",
       "      <td>0</td>\n",
       "      <td>0</td>\n",
       "      <td>0</td>\n",
       "      <td>0</td>\n",
       "      <td>0</td>\n",
       "      <td>0</td>\n",
       "      <td>0</td>\n",
       "      <td>0</td>\n",
       "      <td>0</td>\n",
       "      <td>0</td>\n",
       "      <td>0</td>\n",
       "      <td>0</td>\n",
       "      <td>0</td>\n",
       "      <td>0</td>\n",
       "      <td>0</td>\n",
       "      <td>0</td>\n",
       "      <td>0</td>\n",
       "      <td>0</td>\n",
       "      <td>0</td>\n",
       "      <td>0</td>\n",
       "    </tr>\n",
       "    <tr>\n",
       "      <th>CarrierDelay</th>\n",
       "      <td>NaN</td>\n",
       "      <td>NaN</td>\n",
       "      <td>NaN</td>\n",
       "      <td>NaN</td>\n",
       "      <td>2</td>\n",
       "      <td>NaN</td>\n",
       "      <td>10</td>\n",
       "      <td>NaN</td>\n",
       "      <td>NaN</td>\n",
       "      <td>NaN</td>\n",
       "      <td>NaN</td>\n",
       "      <td>8</td>\n",
       "      <td>NaN</td>\n",
       "      <td>NaN</td>\n",
       "      <td>NaN</td>\n",
       "      <td>NaN</td>\n",
       "      <td>3</td>\n",
       "      <td>NaN</td>\n",
       "      <td>0</td>\n",
       "      <td>12</td>\n",
       "    </tr>\n",
       "    <tr>\n",
       "      <th>WeatherDelay</th>\n",
       "      <td>NaN</td>\n",
       "      <td>NaN</td>\n",
       "      <td>NaN</td>\n",
       "      <td>NaN</td>\n",
       "      <td>0</td>\n",
       "      <td>NaN</td>\n",
       "      <td>0</td>\n",
       "      <td>NaN</td>\n",
       "      <td>NaN</td>\n",
       "      <td>NaN</td>\n",
       "      <td>NaN</td>\n",
       "      <td>0</td>\n",
       "      <td>NaN</td>\n",
       "      <td>NaN</td>\n",
       "      <td>NaN</td>\n",
       "      <td>NaN</td>\n",
       "      <td>0</td>\n",
       "      <td>NaN</td>\n",
       "      <td>0</td>\n",
       "      <td>0</td>\n",
       "    </tr>\n",
       "    <tr>\n",
       "      <th>NASDelay</th>\n",
       "      <td>NaN</td>\n",
       "      <td>NaN</td>\n",
       "      <td>NaN</td>\n",
       "      <td>NaN</td>\n",
       "      <td>0</td>\n",
       "      <td>NaN</td>\n",
       "      <td>0</td>\n",
       "      <td>NaN</td>\n",
       "      <td>NaN</td>\n",
       "      <td>NaN</td>\n",
       "      <td>NaN</td>\n",
       "      <td>0</td>\n",
       "      <td>NaN</td>\n",
       "      <td>NaN</td>\n",
       "      <td>NaN</td>\n",
       "      <td>NaN</td>\n",
       "      <td>0</td>\n",
       "      <td>NaN</td>\n",
       "      <td>0</td>\n",
       "      <td>0</td>\n",
       "    </tr>\n",
       "    <tr>\n",
       "      <th>SecurityDelay</th>\n",
       "      <td>NaN</td>\n",
       "      <td>NaN</td>\n",
       "      <td>NaN</td>\n",
       "      <td>NaN</td>\n",
       "      <td>0</td>\n",
       "      <td>NaN</td>\n",
       "      <td>0</td>\n",
       "      <td>NaN</td>\n",
       "      <td>NaN</td>\n",
       "      <td>NaN</td>\n",
       "      <td>NaN</td>\n",
       "      <td>0</td>\n",
       "      <td>NaN</td>\n",
       "      <td>NaN</td>\n",
       "      <td>NaN</td>\n",
       "      <td>NaN</td>\n",
       "      <td>0</td>\n",
       "      <td>NaN</td>\n",
       "      <td>0</td>\n",
       "      <td>0</td>\n",
       "    </tr>\n",
       "    <tr>\n",
       "      <th>LateAircraftDelay</th>\n",
       "      <td>NaN</td>\n",
       "      <td>NaN</td>\n",
       "      <td>NaN</td>\n",
       "      <td>NaN</td>\n",
       "      <td>32</td>\n",
       "      <td>NaN</td>\n",
       "      <td>47</td>\n",
       "      <td>NaN</td>\n",
       "      <td>NaN</td>\n",
       "      <td>NaN</td>\n",
       "      <td>NaN</td>\n",
       "      <td>72</td>\n",
       "      <td>NaN</td>\n",
       "      <td>NaN</td>\n",
       "      <td>NaN</td>\n",
       "      <td>NaN</td>\n",
       "      <td>12</td>\n",
       "      <td>NaN</td>\n",
       "      <td>16</td>\n",
       "      <td>25</td>\n",
       "    </tr>\n",
       "  </tbody>\n",
       "</table>\n",
       "</div>"
      ],
      "text/plain": [
       "                       0       1       2       3       4       5       6   \\\n",
       "Year                 2008    2008    2008    2008    2008    2008    2008   \n",
       "Month                   1       1       1       1       1       1       1   \n",
       "DayofMonth              3       3       3       3       3       3       3   \n",
       "DayOfWeek               4       4       4       4       4       4       4   \n",
       "DepTime              2003     754     628     926    1829    1940    1937   \n",
       "CRSDepTime           1955     735     620     930    1755    1915    1830   \n",
       "ArrTime              2211    1002     804    1054    1959    2121    2037   \n",
       "CRSArrTime           2225    1000     750    1100    1925    2110    1940   \n",
       "UniqueCarrier          WN      WN      WN      WN      WN      WN      WN   \n",
       "FlightNum             335    3231     448    1746    3920     378     509   \n",
       "TailNum            N712SW  N772SW  N428WN  N612SW  N464WN  N726SW  N763SW   \n",
       "ActualElapsedTime     128     128      96      88      90     101     240   \n",
       "CRSElapsedTime        150     145      90      90      90     115     250   \n",
       "AirTime               116     113      76      78      77      87     230   \n",
       "ArrDelay              -14       2      14      -6      34      11      57   \n",
       "DepDelay                8      19       8      -4      34      25      67   \n",
       "Origin                IAD     IAD     IND     IND     IND     IND     IND   \n",
       "Dest                  TPA     TPA     BWI     BWI     BWI     JAX     LAS   \n",
       "Distance              810     810     515     515     515     688    1591   \n",
       "TaxiIn                  4       5       3       3       3       4       3   \n",
       "TaxiOut                 8      10      17       7      10      10       7   \n",
       "Cancelled               0       0       0       0       0       0       0   \n",
       "CancellationCode      NaN     NaN     NaN     NaN     NaN     NaN     NaN   \n",
       "Diverted                0       0       0       0       0       0       0   \n",
       "CarrierDelay          NaN     NaN     NaN     NaN       2     NaN      10   \n",
       "WeatherDelay          NaN     NaN     NaN     NaN       0     NaN       0   \n",
       "NASDelay              NaN     NaN     NaN     NaN       0     NaN       0   \n",
       "SecurityDelay         NaN     NaN     NaN     NaN       0     NaN       0   \n",
       "LateAircraftDelay     NaN     NaN     NaN     NaN      32     NaN      47   \n",
       "\n",
       "                       7       8       9       10      11      12      13  \\\n",
       "Year                 2008    2008    2008    2008    2008    2008    2008   \n",
       "Month                   1       1       1       1       1       1       1   \n",
       "DayofMonth              3       3       3       3       3       3       3   \n",
       "DayOfWeek               4       4       4       4       4       4       4   \n",
       "DepTime              1039     617    1620     706    1644    1426     715   \n",
       "CRSDepTime           1040     615    1620     700    1510    1430     715   \n",
       "ArrTime              1132     652    1639     916    1845    1426     720   \n",
       "CRSArrTime           1150     650    1655     915    1725    1425     710   \n",
       "UniqueCarrier          WN      WN      WN      WN      WN      WN      WN   \n",
       "FlightNum             535      11     810     100    1333     829    1016   \n",
       "TailNum            N428WN  N689SW  N648SW  N690SW  N334SW  N476WN  N765SW   \n",
       "ActualElapsedTime     233      95      79     130     121      60      65   \n",
       "CRSElapsedTime        250      95      95     135     135      55      55   \n",
       "AirTime               219      70      70     106     107      39      37   \n",
       "ArrDelay              -18       2     -16       1      80       1      10   \n",
       "DepDelay               -1       2       0       6      94      -4       0   \n",
       "Origin                IND     IND     IND     IND     IND     IND     IND   \n",
       "Dest                  LAS     MCI     MCI     MCO     MCO     MDW     MDW   \n",
       "Distance             1591     451     451     828     828     162     162   \n",
       "TaxiIn                  7       6       3       5       6       9       7   \n",
       "TaxiOut                 7      19       6      19       8      12      21   \n",
       "Cancelled               0       0       0       0       0       0       0   \n",
       "CancellationCode      NaN     NaN     NaN     NaN     NaN     NaN     NaN   \n",
       "Diverted                0       0       0       0       0       0       0   \n",
       "CarrierDelay          NaN     NaN     NaN     NaN       8     NaN     NaN   \n",
       "WeatherDelay          NaN     NaN     NaN     NaN       0     NaN     NaN   \n",
       "NASDelay              NaN     NaN     NaN     NaN       0     NaN     NaN   \n",
       "SecurityDelay         NaN     NaN     NaN     NaN       0     NaN     NaN   \n",
       "LateAircraftDelay     NaN     NaN     NaN     NaN      72     NaN     NaN   \n",
       "\n",
       "                       14      15      16      17      18      19  \n",
       "Year                 2008    2008    2008    2008    2008    2008  \n",
       "Month                   1       1       1       1       1       1  \n",
       "DayofMonth              3       3       3       3       3       3  \n",
       "DayOfWeek               4       4       4       4       4       4  \n",
       "DepTime              1702    1029    1452     754    1323    1416  \n",
       "CRSDepTime           1700    1020    1425     745    1255    1325  \n",
       "ArrTime              1651    1021    1640     940    1526    1512  \n",
       "CRSArrTime           1655    1010    1625     955    1510    1435  \n",
       "UniqueCarrier          WN      WN      WN      WN      WN      WN  \n",
       "FlightNum            1827    2272     675    1144       4      54  \n",
       "TailNum            N420WN  N263WN  N286WN  N778SW  N674AA  N643SW  \n",
       "ActualElapsedTime      49      52     228     226     123      56  \n",
       "CRSElapsedTime         55      50     240     250     135      70  \n",
       "AirTime                35      37     213     205     110      49  \n",
       "ArrDelay               -4      11      15     -15      16      37  \n",
       "DepDelay                2       9      27       9      28      51  \n",
       "Origin                IND     IND     IND     IND     IND     ISP  \n",
       "Dest                  MDW     MDW     PHX     PHX     TPA     BWI  \n",
       "Distance              162     162    1489    1489     838     220  \n",
       "TaxiIn                  4       6       7       5       4       2  \n",
       "TaxiOut                10       9       8      16       9       5  \n",
       "Cancelled               0       0       0       0       0       0  \n",
       "CancellationCode      NaN     NaN     NaN     NaN     NaN     NaN  \n",
       "Diverted                0       0       0       0       0       0  \n",
       "CarrierDelay          NaN     NaN       3     NaN       0      12  \n",
       "WeatherDelay          NaN     NaN       0     NaN       0       0  \n",
       "NASDelay              NaN     NaN       0     NaN       0       0  \n",
       "SecurityDelay         NaN     NaN       0     NaN       0       0  \n",
       "LateAircraftDelay     NaN     NaN      12     NaN      16      25  "
      ]
     },
     "execution_count": 4,
     "metadata": {},
     "output_type": "execute_result"
    }
   ],
   "source": [
    "data.head(20).T"
   ]
  },
  {
   "cell_type": "code",
   "execution_count": 5,
   "metadata": {},
   "outputs": [
    {
     "name": "stdout",
     "output_type": "stream",
     "text": [
      "<class 'pandas.core.frame.DataFrame'>\n",
      "RangeIndex: 7009728 entries, 0 to 7009727\n",
      "Data columns (total 29 columns):\n",
      "Year                 int64\n",
      "Month                int64\n",
      "DayofMonth           int64\n",
      "DayOfWeek            int64\n",
      "DepTime              float64\n",
      "CRSDepTime           int64\n",
      "ArrTime              float64\n",
      "CRSArrTime           int64\n",
      "UniqueCarrier        object\n",
      "FlightNum            int64\n",
      "TailNum              object\n",
      "ActualElapsedTime    float64\n",
      "CRSElapsedTime       float64\n",
      "AirTime              float64\n",
      "ArrDelay             float64\n",
      "DepDelay             float64\n",
      "Origin               object\n",
      "Dest                 object\n",
      "Distance             int64\n",
      "TaxiIn               float64\n",
      "TaxiOut              float64\n",
      "Cancelled            int64\n",
      "CancellationCode     object\n",
      "Diverted             int64\n",
      "CarrierDelay         float64\n",
      "WeatherDelay         float64\n",
      "NASDelay             float64\n",
      "SecurityDelay        float64\n",
      "LateAircraftDelay    float64\n",
      "dtypes: float64(14), int64(10), object(5)\n",
      "memory usage: 1.5+ GB\n"
     ]
    }
   ],
   "source": [
    "data.info()"
   ]
  },
  {
   "cell_type": "markdown",
   "metadata": {},
   "source": [
    "\n",
    "\n",
    "1. How many unique carriers are there in our dataset?\n",
    "\n",
    "    10\n",
    "    \n",
    "    15\n",
    "    \n",
    "    **20**\n",
    "    \n",
    "    25\n",
    "    \n",
    "\n"
   ]
  },
  {
   "cell_type": "code",
   "execution_count": 6,
   "metadata": {},
   "outputs": [
    {
     "data": {
      "text/plain": [
       "20"
      ]
     },
     "execution_count": 6,
     "metadata": {},
     "output_type": "execute_result"
    }
   ],
   "source": [
    "data['UniqueCarrier'].nunique()"
   ]
  },
  {
   "cell_type": "markdown",
   "metadata": {},
   "source": [
    "\n",
    "\n",
    "2. We have both cancelled and completed flights in the datset. Check if there are more completed or cancelled flights. What is the difference?\n",
    "\n",
    "Hint: Take a look at Cancelled to see the categories and FlightNum column to calculate unique flights for each category.\n",
    "\n",
    "    Cancelled overweights completed by 329 flights\n",
    "    **Completed overweights cancelled by 6734860 flights**\n",
    "    Cancelled overweights completed by 671 flights\n",
    "    Completed overweights cancelled by 11088967 flights\n",
    "\n"
   ]
  },
  {
   "cell_type": "code",
   "execution_count": 7,
   "metadata": {},
   "outputs": [
    {
     "data": {
      "text/plain": [
       "6734860"
      ]
     },
     "execution_count": 7,
     "metadata": {},
     "output_type": "execute_result"
    }
   ],
   "source": [
    "data_2 = data.groupby('Cancelled')['FlightNum'].count()\n",
    "data_2[0]-data_2[1]"
   ]
  },
  {
   "cell_type": "markdown",
   "metadata": {},
   "source": [
    "\n",
    "\n",
    "3. Find a flight with the longest departure delays and a flight with the longest arrival delay. Do they have the same destination airport, and if yes, what is its code?\n",
    "\n",
    "    yes, ATL\n",
    "    \n",
    "    yes, HNL\n",
    "    \n",
    "    **yes, MSP**\n",
    "    \n",
    "    no\n",
    "\n"
   ]
  },
  {
   "cell_type": "code",
   "execution_count": 9,
   "metadata": {},
   "outputs": [
    {
     "data": {
      "text/plain": [
       "2235378    MSP\n",
       "Name: Dest, dtype: object"
      ]
     },
     "execution_count": 9,
     "metadata": {},
     "output_type": "execute_result"
    }
   ],
   "source": [
    "data[data[\"DepDelay\"]==data['DepDelay'].max()][\"Dest\"]"
   ]
  },
  {
   "cell_type": "code",
   "execution_count": 10,
   "metadata": {},
   "outputs": [
    {
     "data": {
      "text/plain": [
       "1018798    MSP\n",
       "Name: Dest, dtype: object"
      ]
     },
     "execution_count": 10,
     "metadata": {},
     "output_type": "execute_result"
    }
   ],
   "source": [
    "data[data[\"ArrDelay\"]==data['ArrDelay'].max()][\"Dest\"]"
   ]
  },
  {
   "cell_type": "markdown",
   "metadata": {},
   "source": [
    "\n",
    "\n",
    "4. Find the carrier that has the greatest number of cancelled flights.\n",
    "\n",
    "    AA\n",
    "    \n",
    "   **MQ**\n",
    "    \n",
    "    WN\n",
    "    \n",
    "    CO\n",
    "\n"
   ]
  },
  {
   "cell_type": "code",
   "execution_count": 11,
   "metadata": {},
   "outputs": [
    {
     "data": {
      "text/html": [
       "<div>\n",
       "<style scoped>\n",
       "    .dataframe tbody tr th:only-of-type {\n",
       "        vertical-align: middle;\n",
       "    }\n",
       "\n",
       "    .dataframe tbody tr th {\n",
       "        vertical-align: top;\n",
       "    }\n",
       "\n",
       "    .dataframe thead th {\n",
       "        text-align: right;\n",
       "    }\n",
       "</style>\n",
       "<table border=\"1\" class=\"dataframe\">\n",
       "  <thead>\n",
       "    <tr style=\"text-align: right;\">\n",
       "      <th></th>\n",
       "      <th>Cancelled</th>\n",
       "    </tr>\n",
       "    <tr>\n",
       "      <th>UniqueCarrier</th>\n",
       "      <th></th>\n",
       "    </tr>\n",
       "  </thead>\n",
       "  <tbody>\n",
       "    <tr>\n",
       "      <th>AQ</th>\n",
       "      <td>42</td>\n",
       "    </tr>\n",
       "    <tr>\n",
       "      <th>F9</th>\n",
       "      <td>303</td>\n",
       "    </tr>\n",
       "    <tr>\n",
       "      <th>HA</th>\n",
       "      <td>570</td>\n",
       "    </tr>\n",
       "    <tr>\n",
       "      <th>AS</th>\n",
       "      <td>2139</td>\n",
       "    </tr>\n",
       "    <tr>\n",
       "      <th>FL</th>\n",
       "      <td>2236</td>\n",
       "    </tr>\n",
       "    <tr>\n",
       "      <th>NW</th>\n",
       "      <td>2906</td>\n",
       "    </tr>\n",
       "    <tr>\n",
       "      <th>B6</th>\n",
       "      <td>3205</td>\n",
       "    </tr>\n",
       "    <tr>\n",
       "      <th>CO</th>\n",
       "      <td>3702</td>\n",
       "    </tr>\n",
       "    <tr>\n",
       "      <th>EV</th>\n",
       "      <td>5026</td>\n",
       "    </tr>\n",
       "    <tr>\n",
       "      <th>OH</th>\n",
       "      <td>6462</td>\n",
       "    </tr>\n",
       "    <tr>\n",
       "      <th>US</th>\n",
       "      <td>6582</td>\n",
       "    </tr>\n",
       "    <tr>\n",
       "      <th>DL</th>\n",
       "      <td>6813</td>\n",
       "    </tr>\n",
       "    <tr>\n",
       "      <th>9E</th>\n",
       "      <td>7100</td>\n",
       "    </tr>\n",
       "    <tr>\n",
       "      <th>YV</th>\n",
       "      <td>9219</td>\n",
       "    </tr>\n",
       "    <tr>\n",
       "      <th>XE</th>\n",
       "      <td>9992</td>\n",
       "    </tr>\n",
       "    <tr>\n",
       "      <th>UA</th>\n",
       "      <td>10541</td>\n",
       "    </tr>\n",
       "    <tr>\n",
       "      <th>WN</th>\n",
       "      <td>12389</td>\n",
       "    </tr>\n",
       "    <tr>\n",
       "      <th>OO</th>\n",
       "      <td>12436</td>\n",
       "    </tr>\n",
       "    <tr>\n",
       "      <th>AA</th>\n",
       "      <td>17440</td>\n",
       "    </tr>\n",
       "    <tr>\n",
       "      <th>MQ</th>\n",
       "      <td>18331</td>\n",
       "    </tr>\n",
       "  </tbody>\n",
       "</table>\n",
       "</div>"
      ],
      "text/plain": [
       "               Cancelled\n",
       "UniqueCarrier           \n",
       "AQ                    42\n",
       "F9                   303\n",
       "HA                   570\n",
       "AS                  2139\n",
       "FL                  2236\n",
       "NW                  2906\n",
       "B6                  3205\n",
       "CO                  3702\n",
       "EV                  5026\n",
       "OH                  6462\n",
       "US                  6582\n",
       "DL                  6813\n",
       "9E                  7100\n",
       "YV                  9219\n",
       "XE                  9992\n",
       "UA                 10541\n",
       "WN                 12389\n",
       "OO                 12436\n",
       "AA                 17440\n",
       "MQ                 18331"
      ]
     },
     "execution_count": 11,
     "metadata": {},
     "output_type": "execute_result"
    }
   ],
   "source": [
    " data.groupby(['UniqueCarrier'])[[\"Cancelled\"]].sum().sort_values(\"Cancelled\")"
   ]
  },
  {
   "cell_type": "markdown",
   "metadata": {},
   "source": [
    "\n",
    "\n",
    "5. Let's examine departure time and consider distribution by hour (column DepHour that we've created earlier). Which hour has the highest percentage of flights?\n",
    "\n",
    "    1 am\n",
    "    \n",
    "    5 am\n",
    "    \n",
    "    **8 am**\n",
    "    \n",
    "    \n",
    "    3 pm\n",
    "\n"
   ]
  },
  {
   "cell_type": "code",
   "execution_count": 12,
   "metadata": {},
   "outputs": [],
   "source": [
    "data['DepHour'] = data['DepTime'] // 100\n",
    "data['DepHour'].replace(to_replace=24, value=0, inplace=True)"
   ]
  },
  {
   "cell_type": "code",
   "execution_count": 13,
   "metadata": {},
   "outputs": [
    {
     "data": {
      "text/plain": [
       "8.0     449224\n",
       "6.0     446737\n",
       "11.0    444702\n",
       "7.0     436700\n",
       "13.0    435917\n",
       "9.0     434850\n",
       "16.0    434017\n",
       "17.0    432488\n",
       "10.0    431460\n",
       "12.0    424249\n",
       "14.0    416875\n",
       "15.0    411126\n",
       "18.0    400784\n",
       "19.0    387288\n",
       "20.0    285991\n",
       "21.0    254850\n",
       "5.0     148167\n",
       "22.0    119651\n",
       "23.0     46103\n",
       "0.0      20368\n",
       "1.0       5861\n",
       "4.0       3390\n",
       "2.0       1851\n",
       "3.0        833\n",
       "Name: DepHour, dtype: int64"
      ]
     },
     "execution_count": 13,
     "metadata": {},
     "output_type": "execute_result"
    }
   ],
   "source": [
    "data[\"DepHour\"].value_counts()"
   ]
  },
  {
   "cell_type": "markdown",
   "metadata": {},
   "source": [
    "\n",
    "\n",
    "6. OK, now let's examine cancelled flight distribution by time. Which hour has the least percentage of cancelled flights?\n",
    "\n",
    "    2 am\n",
    "    \n",
    "    9 pm\n",
    "    \n",
    "    8 am\n",
    "    \n",
    "    **3 am**\n",
    "\n"
   ]
  },
  {
   "cell_type": "code",
   "execution_count": 14,
   "metadata": {},
   "outputs": [
    {
     "data": {
      "text/html": [
       "<div>\n",
       "<style scoped>\n",
       "    .dataframe tbody tr th:only-of-type {\n",
       "        vertical-align: middle;\n",
       "    }\n",
       "\n",
       "    .dataframe tbody tr th {\n",
       "        vertical-align: top;\n",
       "    }\n",
       "\n",
       "    .dataframe thead th {\n",
       "        text-align: right;\n",
       "    }\n",
       "</style>\n",
       "<table border=\"1\" class=\"dataframe\">\n",
       "  <thead>\n",
       "    <tr style=\"text-align: right;\">\n",
       "      <th></th>\n",
       "      <th>Cancelled</th>\n",
       "    </tr>\n",
       "    <tr>\n",
       "      <th>DepHour</th>\n",
       "      <th></th>\n",
       "    </tr>\n",
       "  </thead>\n",
       "  <tbody>\n",
       "    <tr>\n",
       "      <th>3.0</th>\n",
       "      <td>0</td>\n",
       "    </tr>\n",
       "    <tr>\n",
       "      <th>2.0</th>\n",
       "      <td>1</td>\n",
       "    </tr>\n",
       "    <tr>\n",
       "      <th>4.0</th>\n",
       "      <td>1</td>\n",
       "    </tr>\n",
       "    <tr>\n",
       "      <th>1.0</th>\n",
       "      <td>4</td>\n",
       "    </tr>\n",
       "    <tr>\n",
       "      <th>0.0</th>\n",
       "      <td>7</td>\n",
       "    </tr>\n",
       "    <tr>\n",
       "      <th>23.0</th>\n",
       "      <td>24</td>\n",
       "    </tr>\n",
       "    <tr>\n",
       "      <th>5.0</th>\n",
       "      <td>24</td>\n",
       "    </tr>\n",
       "    <tr>\n",
       "      <th>13.0</th>\n",
       "      <td>47</td>\n",
       "    </tr>\n",
       "    <tr>\n",
       "      <th>20.0</th>\n",
       "      <td>51</td>\n",
       "    </tr>\n",
       "    <tr>\n",
       "      <th>12.0</th>\n",
       "      <td>53</td>\n",
       "    </tr>\n",
       "    <tr>\n",
       "      <th>9.0</th>\n",
       "      <td>56</td>\n",
       "    </tr>\n",
       "    <tr>\n",
       "      <th>14.0</th>\n",
       "      <td>57</td>\n",
       "    </tr>\n",
       "    <tr>\n",
       "      <th>10.0</th>\n",
       "      <td>57</td>\n",
       "    </tr>\n",
       "    <tr>\n",
       "      <th>22.0</th>\n",
       "      <td>57</td>\n",
       "    </tr>\n",
       "    <tr>\n",
       "      <th>11.0</th>\n",
       "      <td>59</td>\n",
       "    </tr>\n",
       "    <tr>\n",
       "      <th>18.0</th>\n",
       "      <td>66</td>\n",
       "    </tr>\n",
       "    <tr>\n",
       "      <th>15.0</th>\n",
       "      <td>73</td>\n",
       "    </tr>\n",
       "    <tr>\n",
       "      <th>16.0</th>\n",
       "      <td>73</td>\n",
       "    </tr>\n",
       "    <tr>\n",
       "      <th>17.0</th>\n",
       "      <td>73</td>\n",
       "    </tr>\n",
       "    <tr>\n",
       "      <th>8.0</th>\n",
       "      <td>79</td>\n",
       "    </tr>\n",
       "    <tr>\n",
       "      <th>6.0</th>\n",
       "      <td>80</td>\n",
       "    </tr>\n",
       "    <tr>\n",
       "      <th>19.0</th>\n",
       "      <td>81</td>\n",
       "    </tr>\n",
       "    <tr>\n",
       "      <th>21.0</th>\n",
       "      <td>82</td>\n",
       "    </tr>\n",
       "    <tr>\n",
       "      <th>7.0</th>\n",
       "      <td>83</td>\n",
       "    </tr>\n",
       "  </tbody>\n",
       "</table>\n",
       "</div>"
      ],
      "text/plain": [
       "         Cancelled\n",
       "DepHour           \n",
       "3.0              0\n",
       "2.0              1\n",
       "4.0              1\n",
       "1.0              4\n",
       "0.0              7\n",
       "23.0            24\n",
       "5.0             24\n",
       "13.0            47\n",
       "20.0            51\n",
       "12.0            53\n",
       "9.0             56\n",
       "14.0            57\n",
       "10.0            57\n",
       "22.0            57\n",
       "11.0            59\n",
       "18.0            66\n",
       "15.0            73\n",
       "16.0            73\n",
       "17.0            73\n",
       "8.0             79\n",
       "6.0             80\n",
       "19.0            81\n",
       "21.0            82\n",
       "7.0             83"
      ]
     },
     "execution_count": 14,
     "metadata": {},
     "output_type": "execute_result"
    }
   ],
   "source": [
    " data.groupby(['DepHour'])[[\"Cancelled\"]].sum().sort_values(\"Cancelled\")"
   ]
  },
  {
   "cell_type": "markdown",
   "metadata": {},
   "source": [
    "\n",
    "\n",
    "7. Is there any hour that didn't have any cancelled flights at all? Check all that apply.\n",
    "\n",
    "    **3**\n",
    "    \n",
    "    19\n",
    "    \n",
    "    22\n",
    "    \n",
    "    4\n",
    "\n",
    "Look to previous question."
   ]
  },
  {
   "cell_type": "markdown",
   "metadata": {},
   "source": [
    "\n",
    "\n",
    "8. Find the busiest hour, or in other words, the hour when the number of departed flights reaches its maximum.\n",
    "\n",
    "Hint: Consider only completed flights.\n",
    "\n",
    "    4\n",
    "    \n",
    "    7\n",
    "    \n",
    "    8\n",
    "    \n",
    "   **17**\n",
    "    \n",
    "\n"
   ]
  },
  {
   "cell_type": "code",
   "execution_count": 15,
   "metadata": {},
   "outputs": [
    {
     "data": {
      "text/plain": [
       "DepHour\n",
       "3.0     7341\n",
       "4.0     7450\n",
       "2.0     7784\n",
       "1.0     7812\n",
       "18.0    7825\n",
       "0.0     7826\n",
       "21.0    7826\n",
       "22.0    7826\n",
       "23.0    7826\n",
       "7.0     7827\n",
       "5.0     9202\n",
       "13.0    9740\n",
       "16.0    9740\n",
       "6.0     9740\n",
       "20.0    9740\n",
       "8.0     9740\n",
       "9.0     9741\n",
       "10.0    9741\n",
       "15.0    9741\n",
       "17.0    9741\n",
       "19.0    9741\n",
       "11.0    9741\n",
       "12.0    9742\n",
       "14.0    9743\n",
       "Name: FlightNum, dtype: int64"
      ]
     },
     "execution_count": 15,
     "metadata": {},
     "output_type": "execute_result"
    }
   ],
   "source": [
    " data[data[\"Cancelled\"]==0].groupby(['DepHour'])[\"FlightNum\"].max().sort_values()"
   ]
  },
  {
   "cell_type": "markdown",
   "metadata": {},
   "source": [
    "\n",
    "\n",
    "9. Since we know the departure hour, it might be interesting to examine the average delay for corresponding hour. Are there any cases, when the planes on average departed earlier than they should have done? And if yes, at what departure hours did it happen?\n",
    "\n",
    "Hint: Consider only completed flights.\n",
    "\n",
    "    no, there are no such cases\n",
    "    \n",
    "   **yes, at 5-6 am**\n",
    "   \n",
    "    yes, at 9-10 am\n",
    "    \n",
    "    yes, at 2-4 pm\n",
    "\n"
   ]
  },
  {
   "cell_type": "code",
   "execution_count": 16,
   "metadata": {},
   "outputs": [
    {
     "data": {
      "text/plain": [
       "DepHour\n",
       "0.0     1440238.0\n",
       "1.0      654718.0\n",
       "2.0      226794.0\n",
       "3.0       79818.0\n",
       "4.0       11437.0\n",
       "5.0     -630435.0\n",
       "6.0     -727783.0\n",
       "7.0       44762.0\n",
       "8.0      790770.0\n",
       "9.0     1631894.0\n",
       "10.0    2356469.0\n",
       "11.0    2971071.0\n",
       "12.0    3352341.0\n",
       "13.0    3840801.0\n",
       "14.0    4314740.0\n",
       "15.0    4882679.0\n",
       "16.0    5156894.0\n",
       "17.0    5713093.0\n",
       "18.0    6147071.0\n",
       "19.0    6535264.0\n",
       "20.0    6515140.0\n",
       "21.0    5867514.0\n",
       "22.0    4549183.0\n",
       "23.0    2765295.0\n",
       "Name: DepDelay, dtype: float64"
      ]
     },
     "execution_count": 16,
     "metadata": {},
     "output_type": "execute_result"
    }
   ],
   "source": [
    " data[data[\"Cancelled\"]==0].groupby(['DepHour'])[\"DepDelay\"].sum()"
   ]
  },
  {
   "cell_type": "markdown",
   "metadata": {},
   "source": [
    "\n",
    "\n",
    "10. Considering only the completed flights by the carrier, that you have found in Question 4, find the distribution of these flights by hour. At what time does the greatest number of its planes depart?\n",
    "\n",
    "    at noon\n",
    "    \n",
    "    at 7 am\n",
    "    \n",
    "    at 8 am\n",
    "    \n",
    "    **at 10 am**\n",
    "\n"
   ]
  },
  {
   "cell_type": "code",
   "execution_count": 17,
   "metadata": {},
   "outputs": [
    {
     "data": {
      "text/plain": [
       "DepHour\n",
       "3.0         727897\n",
       "2.0        1430302\n",
       "4.0        6702087\n",
       "1.0        6772202\n",
       "0.0       24577944\n",
       "23.0      63627561\n",
       "22.0     225545668\n",
       "5.0      401834188\n",
       "21.0     560561907\n",
       "20.0     611391135\n",
       "18.0     857528874\n",
       "19.0     869157859\n",
       "7.0      888587424\n",
       "15.0     927593850\n",
       "8.0      942153217\n",
       "14.0     948488478\n",
       "12.0     960861261\n",
       "17.0     960939284\n",
       "9.0      969204416\n",
       "10.0     979090727\n",
       "6.0      984495787\n",
       "13.0     996813431\n",
       "11.0    1003320206\n",
       "16.0    1013752232\n",
       "Name: FlightNum, dtype: int64"
      ]
     },
     "execution_count": 17,
     "metadata": {},
     "output_type": "execute_result"
    }
   ],
   "source": [
    "data[data[\"Cancelled\"]==0].groupby(['DepHour'])[\"FlightNum\"].sum().sort_values()"
   ]
  },
  {
   "cell_type": "markdown",
   "metadata": {},
   "source": [
    "\n",
    "\n",
    "11. Find top-10 carriers in terms of the number of completed flights (UniqueCarrier column)?\n",
    "\n",
    "Which of the listed below is not in your top-10 list?\n",
    "\n",
    "    DL\n",
    "    \n",
    "    AA\n",
    "    \n",
    "    **OO**\n",
    "    \n",
    "    EV\n",
    "\n"
   ]
  },
  {
   "cell_type": "code",
   "execution_count": 18,
   "metadata": {},
   "outputs": [
    {
     "data": {
      "text/plain": [
       "UniqueCarrier\n",
       "OO    2919587030\n",
       "WN    1886434028\n",
       "MQ    1861679201\n",
       "EV    1301220082\n",
       "YV    1151166710\n",
       "9E    1116421124\n",
       "OH    1089161703\n",
       "XE     953973777\n",
       "AA     730501400\n",
       "DL     504041923\n",
       "US     466250028\n",
       "UA     314366712\n",
       "NW     290832526\n",
       "CO     276871738\n",
       "FL     127299457\n",
       "B6     103065762\n",
       "AS      50258543\n",
       "F9      46447508\n",
       "HA      13913566\n",
       "AQ       1665119\n",
       "Name: FlightNum, dtype: int64"
      ]
     },
     "execution_count": 18,
     "metadata": {},
     "output_type": "execute_result"
    }
   ],
   "source": [
    "data[data[\"Cancelled\"]==0].groupby(['UniqueCarrier'])[\"FlightNum\"].sum().sort_values(ascending=False)"
   ]
  },
  {
   "cell_type": "markdown",
   "metadata": {},
   "source": [
    "\n",
    "\n",
    "12. Plot distributions of flight cancellation reasons (CancellationCode).\n",
    "\n",
    "What is the most frequent reason for flight cancellation? (Use this link to translate codes into reasons)\n",
    "\n",
    "    Carrier\n",
    "    \n",
    "   **Weather conditions**\n",
    "    \n",
    "    National Air System\n",
    "    \n",
    "    Security reasons\n",
    "\n"
   ]
  },
  {
   "cell_type": "code",
   "execution_count": 19,
   "metadata": {},
   "outputs": [
    {
     "data": {
      "text/plain": [
       "B    54904\n",
       "A    54330\n",
       "C    28188\n",
       "D       12\n",
       "Name: CancellationCode, dtype: int64"
      ]
     },
     "execution_count": 19,
     "metadata": {},
     "output_type": "execute_result"
    }
   ],
   "source": [
    "# data[data[\"Cancelled\"]==0].groupby(['CarrierDelay', 'WeatherDelay','NASDelay','SecurityDelay']).sum()\n",
    "data['CancellationCode'].value_counts()\n"
   ]
  },
  {
   "cell_type": "markdown",
   "metadata": {},
   "source": [
    "\n",
    "\n",
    "13. Which route is the most frequent, in terms of the number of flights?\n",
    "\n",
    "(Take a look at 'Origin' and 'Dest' features. Consider A->B and B->A directions as different routes)\n",
    "\n",
    "    New-York – Washington (JFK-IAD)\n",
    "    **San-Francisco – Los-Angeles (SFO-LAX)**\n",
    "    San-Jose – Dallas (SJC-DFW)\n",
    "    New-York – San-Francisco (JFK-SFO)\n",
    "\n"
   ]
  },
  {
   "cell_type": "code",
   "execution_count": 20,
   "metadata": {},
   "outputs": [
    {
     "data": {
      "text/plain": [
       "(2299, 30)"
      ]
     },
     "execution_count": 20,
     "metadata": {},
     "output_type": "execute_result"
    }
   ],
   "source": [
    "data[(data['Origin'] == 'JFK') & (data['Dest'] == 'IAD')].shape"
   ]
  },
  {
   "cell_type": "code",
   "execution_count": 21,
   "metadata": {},
   "outputs": [
    {
     "data": {
      "text/plain": [
       "(13788, 30)"
      ]
     },
     "execution_count": 21,
     "metadata": {},
     "output_type": "execute_result"
    }
   ],
   "source": [
    "data[(data['Origin'] == 'SFO') & (data['Dest'] == 'LAX')].shape"
   ]
  },
  {
   "cell_type": "code",
   "execution_count": 22,
   "metadata": {},
   "outputs": [
    {
     "data": {
      "text/plain": [
       "(2264, 30)"
      ]
     },
     "execution_count": 22,
     "metadata": {},
     "output_type": "execute_result"
    }
   ],
   "source": [
    "data[(data['Origin'] == 'SJC') & (data['Dest'] == 'DFW')].shape"
   ]
  },
  {
   "cell_type": "code",
   "execution_count": 23,
   "metadata": {},
   "outputs": [
    {
     "data": {
      "text/plain": [
       "(6591, 30)"
      ]
     },
     "execution_count": 23,
     "metadata": {},
     "output_type": "execute_result"
    }
   ],
   "source": [
    "data[(data['Origin'] == 'JFK') & (data['Dest'] == 'SFO')].shape"
   ]
  },
  {
   "cell_type": "markdown",
   "metadata": {},
   "source": [
    "\n",
    "\n",
    "14. Find top-5 delayed routes (count how many times they were delayed on departure). From all flights on these 5 routes, count all flights with weather conditions contributing to a delay.\n",
    "\n",
    "Hint: consider only positive delays\n",
    "\n",
    "    449\n",
    "    \n",
    "    539\n",
    "    \n",
    "    549\n",
    "    \n",
    "   **668**\n",
    "\n"
   ]
  },
  {
   "cell_type": "code",
   "execution_count": 24,
   "metadata": {},
   "outputs": [
    {
     "data": {
      "text/plain": [
       "Index(['Year', 'Month', 'DayofMonth', 'DayOfWeek', 'DepTime', 'CRSDepTime',\n",
       "       'ArrTime', 'CRSArrTime', 'UniqueCarrier', 'FlightNum', 'TailNum',\n",
       "       'ActualElapsedTime', 'CRSElapsedTime', 'AirTime', 'ArrDelay',\n",
       "       'DepDelay', 'Origin', 'Dest', 'Distance', 'TaxiIn', 'TaxiOut',\n",
       "       'Cancelled', 'CancellationCode', 'Diverted', 'CarrierDelay',\n",
       "       'WeatherDelay', 'NASDelay', 'SecurityDelay', 'LateAircraftDelay',\n",
       "       'DepHour'],\n",
       "      dtype='object')"
      ]
     },
     "execution_count": 24,
     "metadata": {},
     "output_type": "execute_result"
    }
   ],
   "source": [
    "data.columns"
   ]
  },
  {
   "cell_type": "code",
   "execution_count": 25,
   "metadata": {},
   "outputs": [
    {
     "data": {
      "text/plain": [
       "Origin  Dest\n",
       "LAX     SFO     6253\n",
       "DAL     HOU     5742\n",
       "SFO     LAX     5322\n",
       "ORD     LGA     5311\n",
       "HOU     DAL     5288\n",
       "ATL     LGA     5241\n",
       "LAS     LAX     4901\n",
       "PHX     LAS     4792\n",
       "LAX     LAS     4661\n",
       "PHX     LAX     4534\n",
       "ATL     MCO     4505\n",
       "LGA     ATL     4438\n",
       "DEN     LAX     4306\n",
       "ATL     DFW     4303\n",
       "DFW     ORD     4146\n",
       "LGA     ORD     4042\n",
       "LAS     PHX     4006\n",
       "ORD     LAX     3988\n",
       "DEN     LAS     3977\n",
       "LAX     PHX     3965\n",
       "ATL     EWR     3926\n",
       "ORD     DFW     3900\n",
       "DFW     ATL     3892\n",
       "LAX     DEN     3882\n",
       "ORD     EWR     3848\n",
       "PHX     SAN     3814\n",
       "DEN     SLC     3783\n",
       "        PHX     3773\n",
       "ORD     MSP     3745\n",
       "OAK     LAX     3745\n",
       "                ... \n",
       "ICT     SLC        1\n",
       "        SGF        1\n",
       "        PIA        1\n",
       "CLE     TUL        1\n",
       "ICT     MSY        1\n",
       "CLT     ATW        1\n",
       "ICT     MCI        1\n",
       "        CID        1\n",
       "MKE     MCI        1\n",
       "MCI     MKE        1\n",
       "        MGM        1\n",
       "CLT     GRR        1\n",
       "SBP     MRY        1\n",
       "        FAT        1\n",
       "TUL     ASE        1\n",
       "TPA     MCO        1\n",
       "MCI     LNK        1\n",
       "SBA     SBP        1\n",
       "        MRY        1\n",
       "MCI     ICT        1\n",
       "MOD     BFL        1\n",
       "LEX     COS        1\n",
       "CMH     GRB        1\n",
       "        GRR        1\n",
       "MOD     RNO        1\n",
       "CMH     ICT        1\n",
       "        PBI        1\n",
       "CMI     SPI        1\n",
       "COS     ABQ        1\n",
       "CRW     BNA        1\n",
       "Name: DepDelay, Length: 5235, dtype: int64"
      ]
     },
     "execution_count": 25,
     "metadata": {},
     "output_type": "execute_result"
    }
   ],
   "source": [
    "depdelay = (data[data['DepDelay'] > 0].groupby(['Origin','Dest'])['DepDelay'].count())\n",
    "depdelay.sort_values(ascending=False)"
   ]
  },
  {
   "cell_type": "markdown",
   "metadata": {},
   "source": [
    "LAX     SFO     6253\n",
    "DAL     HOU     5742\n",
    "SFO     LAX     5322\n",
    "ORD     LGA     5311\n",
    "HOU     DAL     5288"
   ]
  },
  {
   "cell_type": "code",
   "execution_count": 26,
   "metadata": {},
   "outputs": [
    {
     "data": {
      "text/plain": [
       "(109, 30)"
      ]
     },
     "execution_count": 26,
     "metadata": {},
     "output_type": "execute_result"
    }
   ],
   "source": [
    "data_ORD_LGA = data[((data['Origin']=='LAX') &  (data['Dest']=='SFO'))]\n",
    "data_ORD_LGA[data_ORD_LGA['WeatherDelay']>0].shape"
   ]
  },
  {
   "cell_type": "code",
   "execution_count": 27,
   "metadata": {},
   "outputs": [
    {
     "data": {
      "text/plain": [
       "(133, 30)"
      ]
     },
     "execution_count": 27,
     "metadata": {},
     "output_type": "execute_result"
    }
   ],
   "source": [
    "data_ORD_EWR = data[((data['Origin']=='DAL') &  (data['Dest']=='HOU'))]\n",
    "data_ORD_EWR[data_ORD_EWR['WeatherDelay']>0].shape"
   ]
  },
  {
   "cell_type": "code",
   "execution_count": 28,
   "metadata": {},
   "outputs": [
    {
     "data": {
      "text/plain": [
       "(31, 30)"
      ]
     },
     "execution_count": 28,
     "metadata": {},
     "output_type": "execute_result"
    }
   ],
   "source": [
    "data_LAX_SFO = data[((data['Origin']=='SFO') &  (data['Dest']=='LAX')) ]\n",
    "data_LAX_SFO[data_LAX_SFO['WeatherDelay']>0].shape"
   ]
  },
  {
   "cell_type": "code",
   "execution_count": 29,
   "metadata": {},
   "outputs": [
    {
     "data": {
      "text/plain": [
       "(266, 30)"
      ]
     },
     "execution_count": 29,
     "metadata": {},
     "output_type": "execute_result"
    }
   ],
   "source": [
    "data_LGA_ORD = data[((data['Origin']=='ORD') &  (data['Dest']=='LGA'))]\n",
    "data_LGA_ORD[data_LGA_ORD['WeatherDelay']>0].shape"
   ]
  },
  {
   "cell_type": "code",
   "execution_count": 30,
   "metadata": {},
   "outputs": [
    {
     "data": {
      "text/plain": [
       "(129, 30)"
      ]
     },
     "execution_count": 30,
     "metadata": {},
     "output_type": "execute_result"
    }
   ],
   "source": [
    "data_SFO_LAX= data[((data['Origin']=='HOU') &  (data['Dest']=='DAL'))]\n",
    "data_SFO_LAX[data_SFO_LAX['WeatherDelay']>0].shape"
   ]
  },
  {
   "cell_type": "code",
   "execution_count": 31,
   "metadata": {},
   "outputs": [
    {
     "data": {
      "text/plain": [
       "668"
      ]
     },
     "execution_count": 31,
     "metadata": {},
     "output_type": "execute_result"
    }
   ],
   "source": [
    "109+133+31+266+129\n"
   ]
  },
  {
   "cell_type": "markdown",
   "metadata": {},
   "source": [
    "\n",
    "\n",
    "15. Examine the hourly distribution of departure times. Choose all correct statements:\n",
    "\n",
    "    Flights are normally distributed within time interval [0-23] (Search for: Normal distribution, bell curve).\n",
    "    \n",
    "    Flights are uniformly distributed within time interval [0-23].\n",
    "    \n",
    "    **In the period from 0 am to 4 am there are considerably less flights than from 7 pm to 8 pm.**\n",
    "\n"
   ]
  },
  {
   "cell_type": "code",
   "execution_count": 32,
   "metadata": {},
   "outputs": [
    {
     "data": {
      "image/png": "[encoded data removed]",
      "text/plain": [
       "<Figure size 432x288 with 1 Axes>"
      ]
     },
     "metadata": {
      "needs_background": "light"
     },
     "output_type": "display_data"
    }
   ],
   "source": [
    "data.groupby(['DepHour'])['FlightNum'].sum().plot();\n"
   ]
  },
  {
   "cell_type": "markdown",
   "metadata": {},
   "source": [
    "\n",
    "\n",
    "16. Show how the number of flights changes through time (on the daily/weekly/monthly basis) and interpret the findings.\n",
    "\n",
    "Choose all correct statements:\n",
    "\n",
    "   **The number of flights during weekends is less than during weekdays (working days).**\n",
    "    \n",
    "    The lowest number of flights is on Sunday.\n",
    "    \n",
    "   **There are less flights during winter than during summer.**\n",
    "    \n",
    "\n",
    "Hint: Look for official meteorological winter months for the Nothern Hemisphsere.\n"
   ]
  },
  {
   "cell_type": "code",
   "execution_count": 33,
   "metadata": {},
   "outputs": [
    {
     "data": {
      "text/plain": [
       "<matplotlib.axes._subplots.AxesSubplot at 0x7f8be8fb57b8>"
      ]
     },
     "execution_count": 33,
     "metadata": {},
     "output_type": "execute_result"
    },
    {
     "data": {
      "image/png": "[encoded data removed]",
      "text/plain": [
       "<Figure size 432x288 with 1 Axes>"
      ]
     },
     "metadata": {
      "needs_background": "light"
     },
     "output_type": "display_data"
    }
   ],
   "source": [
    "#The number of flights during weekends is less than during weekdays (working days). ITS FALSE\n",
    "\n",
    "# data_weekends = data[data['']]\n",
    "\n",
    "data.groupby('DayOfWeek')['FlightNum'].sum().plot()\n"
   ]
  },
  {
   "cell_type": "code",
   "execution_count": 34,
   "metadata": {},
   "outputs": [
    {
     "data": {
      "text/plain": [
       "<matplotlib.axes._subplots.AxesSubplot at 0x7f8be8f58748>"
      ]
     },
     "execution_count": 34,
     "metadata": {},
     "output_type": "execute_result"
    },
    {
     "data": {
      "image/png": "[encoded data removed]",
      "text/plain": [
       "<Figure size 432x288 with 1 Axes>"
      ]
     },
     "metadata": {
      "needs_background": "light"
     },
     "output_type": "display_data"
    }
   ],
   "source": [
    "data.groupby('Month')['FlightNum'].sum().plot()"
   ]
  },
  {
   "cell_type": "markdown",
   "metadata": {},
   "source": [
    "\n",
    "\n",
    "17. Examine the distribution of cancellation reasons with time. Make a bar plot of cancellation reasons aggregated by months.\n",
    "\n",
    "Choose all correct statements:\n",
    "\n",
    "    October has the lowest number of cancellations due to weather.\n",
    "    \n",
    "    The highest number of cancellations in September is due to Security reasons.\n",
    "    \n",
    "   **April's top cancellation reason is carriers.**\n",
    "    \n",
    "    Flights cancellations due to National Air System are more frequent than those due to carriers.\n",
    "\n",
    "\n",
    "A\tCarrier\n",
    "\n",
    "B\tWeather\n",
    "\n",
    "C\tNational Air System\n",
    "\n",
    "D\tSecurity\n"
   ]
  },
  {
   "cell_type": "code",
   "execution_count": 46,
   "metadata": {},
   "outputs": [
    {
     "data": {
      "text/plain": [
       "<matplotlib.axes._subplots.AxesSubplot at 0x7f8be8df9c88>"
      ]
     },
     "execution_count": 46,
     "metadata": {},
     "output_type": "execute_result"
    },
    {
     "data": {
      "image/png": "[encoded data removed]",
      "text/plain": [
       "<Figure size 432x288 with 1 Axes>"
      ]
     },
     "metadata": {
      "needs_background": "light"
     },
     "output_type": "display_data"
    }
   ],
   "source": [
    "data[data['Month']==10].groupby('CancellationCode')[['CancellationCode']].count().plot.bar()"
   ]
  },
  {
   "cell_type": "code",
   "execution_count": 47,
   "metadata": {},
   "outputs": [
    {
     "data": {
      "text/plain": [
       "<matplotlib.axes._subplots.AxesSubplot at 0x7f8be8601128>"
      ]
     },
     "execution_count": 47,
     "metadata": {},
     "output_type": "execute_result"
    },
    {
     "data": {
      "image/png": "[encoded data removed]",
      "text/plain": [
       "<Figure size 432x288 with 1 Axes>"
      ]
     },
     "metadata": {
      "needs_background": "light"
     },
     "output_type": "display_data"
    }
   ],
   "source": [
    "data[data['Month']==9].groupby('CancellationCode')[['CancellationCode']].count().plot.bar()"
   ]
  },
  {
   "cell_type": "code",
   "execution_count": 48,
   "metadata": {},
   "outputs": [
    {
     "data": {
      "text/plain": [
       "<matplotlib.axes._subplots.AxesSubplot at 0x7f8be85c5a58>"
      ]
     },
     "execution_count": 48,
     "metadata": {},
     "output_type": "execute_result"
    },
    {
     "data": {
      "image/png": "[encoded data removed]",
      "text/plain": [
       "<Figure size 432x288 with 1 Axes>"
      ]
     },
     "metadata": {
      "needs_background": "light"
     },
     "output_type": "display_data"
    }
   ],
   "source": [
    "data.groupby('CancellationCode')[['CancellationCode']].count().plot.bar()"
   ]
  },
  {
   "cell_type": "markdown",
   "metadata": {},
   "source": [
    "8. Which month has the greatest number of cancellations due to Carrier?\n",
    "\n",
    "    May\n",
    "    \n",
    "    January\n",
    "    \n",
    "    September\n",
    "    \n",
    "    **April**\n"
   ]
  },
  {
   "cell_type": "code",
   "execution_count": 49,
   "metadata": {},
   "outputs": [
    {
     "data": {
      "text/plain": [
       "<matplotlib.axes._subplots.AxesSubplot at 0x7f8be860cba8>"
      ]
     },
     "execution_count": 49,
     "metadata": {},
     "output_type": "execute_result"
    },
    {
     "data": {
      "image/png": "[encoded data removed]",
      "text/plain": [
       "<Figure size 432x288 with 1 Axes>"
      ]
     },
     "metadata": {
      "needs_background": "light"
     },
     "output_type": "display_data"
    }
   ],
   "source": [
    "data[data['CancellationCode']=='A'].groupby('Month')[['CancellationCode']].count().plot.bar()"
   ]
  },
  {
   "cell_type": "markdown",
   "metadata": {},
   "source": [
    "\n",
    "\n",
    "19. Identify the carrier with the greatest number of cancellations due to carrier in the corresponding month from the previous question.\n",
    "\n",
    "    9E\n",
    "    \n",
    "    EV\n",
    "    \n",
    "    HA\n",
    "    \n",
    "    **AA**\n",
    "\n"
   ]
  },
  {
   "cell_type": "code",
   "execution_count": 50,
   "metadata": {},
   "outputs": [
    {
     "data": {
      "text/plain": [
       "<matplotlib.axes._subplots.AxesSubplot at 0x7f8be84dbf28>"
      ]
     },
     "execution_count": 50,
     "metadata": {},
     "output_type": "execute_result"
    },
    {
     "data": {
      "image/png": "[encoded data removed]",
      "text/plain": [
       "<Figure size 432x288 with 1 Axes>"
      ]
     },
     "metadata": {
      "needs_background": "light"
     },
     "output_type": "display_data"
    }
   ],
   "source": [
    "data[data['CancellationCode']=='A'].groupby('UniqueCarrier')[['UniqueCarrier']].count().plot.bar()"
   ]
  },
  {
   "cell_type": "markdown",
   "metadata": {},
   "source": [
    "\n",
    "\n",
    "20. Examine median arrival and departure delays (in time) by carrier. Which carrier has the lowest median delay time for both arrivals and departures? Leave only non-negative values of delay times (). (Boxplots can be helpful in this exercise, as well as it might be a good idea to remove outliers in order to build nice graphs. You can exclude delay time values higher than a corresponding .95 percentile).\n",
    "\n",
    "    EV\n",
    "    \n",
    "    OO\n",
    "    \n",
    "    AA\n",
    "    \n",
    "    **AQ**\n",
    "\n"
   ]
  },
  {
   "cell_type": "code",
   "execution_count": 75,
   "metadata": {},
   "outputs": [
    {
     "name": "stderr",
     "output_type": "stream",
     "text": [
      "/usr/local/lib/python3.5/dist-packages/ipykernel_launcher.py:3: SettingWithCopyWarning: \n",
      "A value is trying to be set on a copy of a slice from a DataFrame.\n",
      "Try using .loc[row_indexer,col_indexer] = value instead\n",
      "\n",
      "See the caveats in the documentation: http://pandas.pydata.org/pandas-docs/stable/indexing.html#indexing-view-versus-copy\n",
      "  This is separate from the ipykernel package so we can avoid doing imports until\n"
     ]
    }
   ],
   "source": [
    "data_20 = data[(data['ArrDelay'] > 0) & (data['DepDelay'] > 0)]\n",
    "\n",
    "data_20['SumDelay'] = data_20['ArrDelay'] + data_20['DepDelay']\n",
    "\n",
    "Q1 = data_20.quantile(0.05)\n",
    "Q3 = data_20.quantile(0.95)\n",
    "IQR = Q3 - Q1\n",
    "data_20 = data_20[~((data_20 < (Q1 - 1.5 * IQR)) |(data_20 > (Q3 + 1.5 * IQR))).any(axis=1)]\n",
    "\n"
   ]
  },
  {
   "cell_type": "code",
   "execution_count": 78,
   "metadata": {},
   "outputs": [
    {
     "data": {
      "image/png": "[encoded data removed]",
      "text/plain": [
       "<Figure size 1008x648 with 1 Axes>"
      ]
     },
     "metadata": {},
     "output_type": "display_data"
    }
   ],
   "source": [
    "\n",
    "\n",
    "\n",
    "# plot\n",
    "sns.set_style('ticks')\n",
    "fig, ax = plt.subplots()\n",
    "# the size of A4 paper\n",
    "fig.set_size_inches(14, 9)\n",
    "bplot = sns.boxplot(y='SumDelay', x='UniqueCarrier', \n",
    "                 data=data_20, \n",
    "                 width=1,\n",
    "                 palette=\"colorblind\")  \n",
    "sns.despine()\n",
    "\n",
    "fig.savefig('example.png')"
   ]
  },
  {
   "cell_type": "code",
   "execution_count": 74,
   "metadata": {},
   "outputs": [
    {
     "data": {
      "text/html": [
       "<div>\n",
       "<style scoped>\n",
       "    .dataframe tbody tr th:only-of-type {\n",
       "        vertical-align: middle;\n",
       "    }\n",
       "\n",
       "    .dataframe tbody tr th {\n",
       "        vertical-align: top;\n",
       "    }\n",
       "\n",
       "    .dataframe thead th {\n",
       "        text-align: right;\n",
       "    }\n",
       "</style>\n",
       "<table border=\"1\" class=\"dataframe\">\n",
       "  <thead>\n",
       "    <tr style=\"text-align: right;\">\n",
       "      <th></th>\n",
       "      <th>1</th>\n",
       "      <th>2</th>\n",
       "      <th>4</th>\n",
       "      <th>5</th>\n",
       "      <th>6</th>\n",
       "    </tr>\n",
       "  </thead>\n",
       "  <tbody>\n",
       "    <tr>\n",
       "      <th>Year</th>\n",
       "      <td>2008</td>\n",
       "      <td>2008</td>\n",
       "      <td>2008</td>\n",
       "      <td>2008</td>\n",
       "      <td>2008</td>\n",
       "    </tr>\n",
       "    <tr>\n",
       "      <th>Month</th>\n",
       "      <td>1</td>\n",
       "      <td>1</td>\n",
       "      <td>1</td>\n",
       "      <td>1</td>\n",
       "      <td>1</td>\n",
       "    </tr>\n",
       "    <tr>\n",
       "      <th>DayofMonth</th>\n",
       "      <td>3</td>\n",
       "      <td>3</td>\n",
       "      <td>3</td>\n",
       "      <td>3</td>\n",
       "      <td>3</td>\n",
       "    </tr>\n",
       "    <tr>\n",
       "      <th>DayOfWeek</th>\n",
       "      <td>4</td>\n",
       "      <td>4</td>\n",
       "      <td>4</td>\n",
       "      <td>4</td>\n",
       "      <td>4</td>\n",
       "    </tr>\n",
       "    <tr>\n",
       "      <th>DepTime</th>\n",
       "      <td>754</td>\n",
       "      <td>628</td>\n",
       "      <td>1829</td>\n",
       "      <td>1940</td>\n",
       "      <td>1937</td>\n",
       "    </tr>\n",
       "    <tr>\n",
       "      <th>CRSDepTime</th>\n",
       "      <td>735</td>\n",
       "      <td>620</td>\n",
       "      <td>1755</td>\n",
       "      <td>1915</td>\n",
       "      <td>1830</td>\n",
       "    </tr>\n",
       "    <tr>\n",
       "      <th>ArrTime</th>\n",
       "      <td>1002</td>\n",
       "      <td>804</td>\n",
       "      <td>1959</td>\n",
       "      <td>2121</td>\n",
       "      <td>2037</td>\n",
       "    </tr>\n",
       "    <tr>\n",
       "      <th>CRSArrTime</th>\n",
       "      <td>1000</td>\n",
       "      <td>750</td>\n",
       "      <td>1925</td>\n",
       "      <td>2110</td>\n",
       "      <td>1940</td>\n",
       "    </tr>\n",
       "    <tr>\n",
       "      <th>UniqueCarrier</th>\n",
       "      <td>WN</td>\n",
       "      <td>WN</td>\n",
       "      <td>WN</td>\n",
       "      <td>WN</td>\n",
       "      <td>WN</td>\n",
       "    </tr>\n",
       "    <tr>\n",
       "      <th>FlightNum</th>\n",
       "      <td>3231</td>\n",
       "      <td>448</td>\n",
       "      <td>3920</td>\n",
       "      <td>378</td>\n",
       "      <td>509</td>\n",
       "    </tr>\n",
       "    <tr>\n",
       "      <th>TailNum</th>\n",
       "      <td>N772SW</td>\n",
       "      <td>N428WN</td>\n",
       "      <td>N464WN</td>\n",
       "      <td>N726SW</td>\n",
       "      <td>N763SW</td>\n",
       "    </tr>\n",
       "    <tr>\n",
       "      <th>ActualElapsedTime</th>\n",
       "      <td>128</td>\n",
       "      <td>96</td>\n",
       "      <td>90</td>\n",
       "      <td>101</td>\n",
       "      <td>240</td>\n",
       "    </tr>\n",
       "    <tr>\n",
       "      <th>CRSElapsedTime</th>\n",
       "      <td>145</td>\n",
       "      <td>90</td>\n",
       "      <td>90</td>\n",
       "      <td>115</td>\n",
       "      <td>250</td>\n",
       "    </tr>\n",
       "    <tr>\n",
       "      <th>AirTime</th>\n",
       "      <td>113</td>\n",
       "      <td>76</td>\n",
       "      <td>77</td>\n",
       "      <td>87</td>\n",
       "      <td>230</td>\n",
       "    </tr>\n",
       "    <tr>\n",
       "      <th>ArrDelay</th>\n",
       "      <td>2</td>\n",
       "      <td>14</td>\n",
       "      <td>34</td>\n",
       "      <td>11</td>\n",
       "      <td>57</td>\n",
       "    </tr>\n",
       "    <tr>\n",
       "      <th>DepDelay</th>\n",
       "      <td>19</td>\n",
       "      <td>8</td>\n",
       "      <td>34</td>\n",
       "      <td>25</td>\n",
       "      <td>67</td>\n",
       "    </tr>\n",
       "    <tr>\n",
       "      <th>Origin</th>\n",
       "      <td>IAD</td>\n",
       "      <td>IND</td>\n",
       "      <td>IND</td>\n",
       "      <td>IND</td>\n",
       "      <td>IND</td>\n",
       "    </tr>\n",
       "    <tr>\n",
       "      <th>Dest</th>\n",
       "      <td>TPA</td>\n",
       "      <td>BWI</td>\n",
       "      <td>BWI</td>\n",
       "      <td>JAX</td>\n",
       "      <td>LAS</td>\n",
       "    </tr>\n",
       "    <tr>\n",
       "      <th>Distance</th>\n",
       "      <td>810</td>\n",
       "      <td>515</td>\n",
       "      <td>515</td>\n",
       "      <td>688</td>\n",
       "      <td>1591</td>\n",
       "    </tr>\n",
       "    <tr>\n",
       "      <th>TaxiIn</th>\n",
       "      <td>5</td>\n",
       "      <td>3</td>\n",
       "      <td>3</td>\n",
       "      <td>4</td>\n",
       "      <td>3</td>\n",
       "    </tr>\n",
       "    <tr>\n",
       "      <th>TaxiOut</th>\n",
       "      <td>10</td>\n",
       "      <td>17</td>\n",
       "      <td>10</td>\n",
       "      <td>10</td>\n",
       "      <td>7</td>\n",
       "    </tr>\n",
       "    <tr>\n",
       "      <th>Cancelled</th>\n",
       "      <td>0</td>\n",
       "      <td>0</td>\n",
       "      <td>0</td>\n",
       "      <td>0</td>\n",
       "      <td>0</td>\n",
       "    </tr>\n",
       "    <tr>\n",
       "      <th>CancellationCode</th>\n",
       "      <td>NaN</td>\n",
       "      <td>NaN</td>\n",
       "      <td>NaN</td>\n",
       "      <td>NaN</td>\n",
       "      <td>NaN</td>\n",
       "    </tr>\n",
       "    <tr>\n",
       "      <th>Diverted</th>\n",
       "      <td>0</td>\n",
       "      <td>0</td>\n",
       "      <td>0</td>\n",
       "      <td>0</td>\n",
       "      <td>0</td>\n",
       "    </tr>\n",
       "    <tr>\n",
       "      <th>CarrierDelay</th>\n",
       "      <td>NaN</td>\n",
       "      <td>NaN</td>\n",
       "      <td>2</td>\n",
       "      <td>NaN</td>\n",
       "      <td>10</td>\n",
       "    </tr>\n",
       "    <tr>\n",
       "      <th>WeatherDelay</th>\n",
       "      <td>NaN</td>\n",
       "      <td>NaN</td>\n",
       "      <td>0</td>\n",
       "      <td>NaN</td>\n",
       "      <td>0</td>\n",
       "    </tr>\n",
       "    <tr>\n",
       "      <th>NASDelay</th>\n",
       "      <td>NaN</td>\n",
       "      <td>NaN</td>\n",
       "      <td>0</td>\n",
       "      <td>NaN</td>\n",
       "      <td>0</td>\n",
       "    </tr>\n",
       "    <tr>\n",
       "      <th>SecurityDelay</th>\n",
       "      <td>NaN</td>\n",
       "      <td>NaN</td>\n",
       "      <td>0</td>\n",
       "      <td>NaN</td>\n",
       "      <td>0</td>\n",
       "    </tr>\n",
       "    <tr>\n",
       "      <th>LateAircraftDelay</th>\n",
       "      <td>NaN</td>\n",
       "      <td>NaN</td>\n",
       "      <td>32</td>\n",
       "      <td>NaN</td>\n",
       "      <td>47</td>\n",
       "    </tr>\n",
       "    <tr>\n",
       "      <th>DepHour</th>\n",
       "      <td>7</td>\n",
       "      <td>6</td>\n",
       "      <td>18</td>\n",
       "      <td>19</td>\n",
       "      <td>19</td>\n",
       "    </tr>\n",
       "    <tr>\n",
       "      <th>SumDelay</th>\n",
       "      <td>21</td>\n",
       "      <td>22</td>\n",
       "      <td>68</td>\n",
       "      <td>36</td>\n",
       "      <td>124</td>\n",
       "    </tr>\n",
       "  </tbody>\n",
       "</table>\n",
       "</div>"
      ],
      "text/plain": [
       "                        1       2       4       5       6\n",
       "Year                 2008    2008    2008    2008    2008\n",
       "Month                   1       1       1       1       1\n",
       "DayofMonth              3       3       3       3       3\n",
       "DayOfWeek               4       4       4       4       4\n",
       "DepTime               754     628    1829    1940    1937\n",
       "CRSDepTime            735     620    1755    1915    1830\n",
       "ArrTime              1002     804    1959    2121    2037\n",
       "CRSArrTime           1000     750    1925    2110    1940\n",
       "UniqueCarrier          WN      WN      WN      WN      WN\n",
       "FlightNum            3231     448    3920     378     509\n",
       "TailNum            N772SW  N428WN  N464WN  N726SW  N763SW\n",
       "ActualElapsedTime     128      96      90     101     240\n",
       "CRSElapsedTime        145      90      90     115     250\n",
       "AirTime               113      76      77      87     230\n",
       "ArrDelay                2      14      34      11      57\n",
       "DepDelay               19       8      34      25      67\n",
       "Origin                IAD     IND     IND     IND     IND\n",
       "Dest                  TPA     BWI     BWI     JAX     LAS\n",
       "Distance              810     515     515     688    1591\n",
       "TaxiIn                  5       3       3       4       3\n",
       "TaxiOut                10      17      10      10       7\n",
       "Cancelled               0       0       0       0       0\n",
       "CancellationCode      NaN     NaN     NaN     NaN     NaN\n",
       "Diverted                0       0       0       0       0\n",
       "CarrierDelay          NaN     NaN       2     NaN      10\n",
       "WeatherDelay          NaN     NaN       0     NaN       0\n",
       "NASDelay              NaN     NaN       0     NaN       0\n",
       "SecurityDelay         NaN     NaN       0     NaN       0\n",
       "LateAircraftDelay     NaN     NaN      32     NaN      47\n",
       "DepHour                 7       6      18      19      19\n",
       "SumDelay               21      22      68      36     124"
      ]
     },
     "execution_count": 74,
     "metadata": {},
     "output_type": "execute_result"
    }
   ],
   "source": [
    "data_20.head().T"
   ]
  },
  {
   "cell_type": "code",
   "execution_count": null,
   "metadata": {},
   "outputs": [],
   "source": []
  },
  {
   "cell_type": "code",
   "execution_count": null,
   "metadata": {},
   "outputs": [],
   "source": []
  },
  {
   "cell_type": "code",
   "execution_count": null,
   "metadata": {},
   "outputs": [],
   "source": []
  },
  {
   "cell_type": "code",
   "execution_count": null,
   "metadata": {},
   "outputs": [],
   "source": []
  },
  {
   "cell_type": "code",
   "execution_count": null,
   "metadata": {},
   "outputs": [],
   "source": []
  },
  {
   "cell_type": "code",
   "execution_count": null,
   "metadata": {},
   "outputs": [],
   "source": []
  },
  {
   "cell_type": "code",
   "execution_count": null,
   "metadata": {},
   "outputs": [],
   "source": []
  }
 ],
 "metadata": {
  "kernelspec": {
   "display_name": "Python 3",
   "language": "python",
   "name": "python3"
  },
  "language_info": {
   "codemirror_mode": {
    "name": "ipython",
    "version": 3
   },
   "file_extension": ".py",
   "mimetype": "text/x-python",
   "name": "python",
   "nbconvert_exporter": "python",
   "pygments_lexer": "ipython3",
   "version": "3.7.1"
  }
 },
 "nbformat": 4,
 "nbformat_minor": 2
}
